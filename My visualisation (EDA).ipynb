{
 "cells": [
  {
   "cell_type": "code",
   "execution_count": 18,
   "metadata": {
    "_cell_guid": "b1076dfc-b9ad-4769-8c92-a6c4dae69d19",
    "_uuid": "8f2839f25d086af736a60e9eeb907d3b93b6e0e5",
    "colab": {
     "base_uri": "https://localhost:8080/",
     "height": 35
    },
    "colab_type": "code",
    "executionInfo": {
     "elapsed": 524,
     "status": "ok",
     "timestamp": 1584058231910,
     "user": {
      "displayName": "lei liu",
      "photoUrl": "",
      "userId": "14671864135837887649"
     },
     "user_tz": 300
    },
    "id": "zxPIh_mSies9",
    "outputId": "351daaac-10e9-4831-fe97-a7ec25946f73"
   },
   "outputs": [],
   "source": [
    "import numpy as np # linear algebra\n",
    "import time\n",
    "import os\n",
    "from matplotlib import pyplot as plt\n",
    "from tqdm import tqdm_notebook\n",
    "from glob import glob\n",
    "import multiprocessing\n",
    "from IPython.display import Markdown, display\n",
    "import pandas as pd"
   ]
  },
  {
   "cell_type": "code",
   "execution_count": 31,
   "metadata": {
    "colab": {},
    "colab_type": "code",
    "id": "0UgG7qQGUQmY"
   },
   "outputs": [],
   "source": [
    "#df = fetch_data(train_data,False)\n",
    "df = pd.read_csv(\"./train/ts-data/ts-united_kingdom.csv\", index_col=0)\n",
    "df['date1'] = df.index"
   ]
  },
  {
   "cell_type": "code",
   "execution_count": 32,
   "metadata": {
    "colab": {
     "base_uri": "https://localhost:8080/",
     "height": 198
    },
    "colab_type": "code",
    "executionInfo": {
     "elapsed": 418,
     "status": "ok",
     "timestamp": 1584058277983,
     "user": {
      "displayName": "lei liu",
      "photoUrl": "",
      "userId": "14671864135837887649"
     },
     "user_tz": 300
    },
    "id": "3oMUid70VNZP",
    "outputId": "592ecbd3-d1bd-472f-e706-26d29733c173"
   },
   "outputs": [
    {
     "data": {
      "text/html": [
       "<div>\n",
       "<style scoped>\n",
       "    .dataframe tbody tr th:only-of-type {\n",
       "        vertical-align: middle;\n",
       "    }\n",
       "\n",
       "    .dataframe tbody tr th {\n",
       "        vertical-align: top;\n",
       "    }\n",
       "\n",
       "    .dataframe thead th {\n",
       "        text-align: right;\n",
       "    }\n",
       "</style>\n",
       "<table border=\"1\" class=\"dataframe\">\n",
       "  <thead>\n",
       "    <tr style=\"text-align: right;\">\n",
       "      <th></th>\n",
       "      <th>revenue</th>\n",
       "      <th>purchases</th>\n",
       "      <th>total_views</th>\n",
       "      <th>unique_streams</th>\n",
       "      <th>unique_invoices</th>\n",
       "      <th>date1</th>\n",
       "    </tr>\n",
       "    <tr>\n",
       "      <th>date</th>\n",
       "      <th></th>\n",
       "      <th></th>\n",
       "      <th></th>\n",
       "      <th></th>\n",
       "      <th></th>\n",
       "      <th></th>\n",
       "    </tr>\n",
       "  </thead>\n",
       "  <tbody>\n",
       "    <tr>\n",
       "      <th>1564617600000000000</th>\n",
       "      <td>5496.38</td>\n",
       "      <td>1606</td>\n",
       "      <td>10580</td>\n",
       "      <td>738.0</td>\n",
       "      <td>46.0</td>\n",
       "      <td>1564617600000000000</td>\n",
       "    </tr>\n",
       "    <tr>\n",
       "      <th>1564704000000000000</th>\n",
       "      <td>3631.15</td>\n",
       "      <td>1163</td>\n",
       "      <td>5928</td>\n",
       "      <td>738.0</td>\n",
       "      <td>46.0</td>\n",
       "      <td>1564704000000000000</td>\n",
       "    </tr>\n",
       "    <tr>\n",
       "      <th>0</th>\n",
       "      <td>0.00</td>\n",
       "      <td>0</td>\n",
       "      <td>0</td>\n",
       "      <td>0.0</td>\n",
       "      <td>0.0</td>\n",
       "      <td>0</td>\n",
       "    </tr>\n",
       "    <tr>\n",
       "      <th>1564876800000000000</th>\n",
       "      <td>1298.49</td>\n",
       "      <td>535</td>\n",
       "      <td>3172</td>\n",
       "      <td>738.0</td>\n",
       "      <td>46.0</td>\n",
       "      <td>1564876800000000000</td>\n",
       "    </tr>\n",
       "    <tr>\n",
       "      <th>1564963200000000000</th>\n",
       "      <td>7920.31</td>\n",
       "      <td>1347</td>\n",
       "      <td>6748</td>\n",
       "      <td>738.0</td>\n",
       "      <td>46.0</td>\n",
       "      <td>1564963200000000000</td>\n",
       "    </tr>\n",
       "  </tbody>\n",
       "</table>\n",
       "</div>"
      ],
      "text/plain": [
       "                     revenue  purchases  total_views  unique_streams  \\\n",
       "date                                                                   \n",
       "1564617600000000000  5496.38       1606        10580           738.0   \n",
       "1564704000000000000  3631.15       1163         5928           738.0   \n",
       "0                       0.00          0            0             0.0   \n",
       "1564876800000000000  1298.49        535         3172           738.0   \n",
       "1564963200000000000  7920.31       1347         6748           738.0   \n",
       "\n",
       "                     unique_invoices                date1  \n",
       "date                                                       \n",
       "1564617600000000000             46.0  1564617600000000000  \n",
       "1564704000000000000             46.0  1564704000000000000  \n",
       "0                                0.0                    0  \n",
       "1564876800000000000             46.0  1564876800000000000  \n",
       "1564963200000000000             46.0  1564963200000000000  "
      ]
     },
     "execution_count": 32,
     "metadata": {},
     "output_type": "execute_result"
    }
   ],
   "source": [
    "df.head()"
   ]
  },
  {
   "cell_type": "code",
   "execution_count": 0,
   "metadata": {
    "colab": {},
    "colab_type": "code",
    "id": "Hi6D9TMAXa4u"
   },
   "outputs": [],
   "source": []
  },
  {
   "cell_type": "code",
   "execution_count": 33,
   "metadata": {
    "colab": {
     "base_uri": "https://localhost:8080/",
     "height": 365
    },
    "colab_type": "code",
    "executionInfo": {
     "elapsed": 749,
     "status": "ok",
     "timestamp": 1584058282804,
     "user": {
      "displayName": "lei liu",
      "photoUrl": "",
      "userId": "14671864135837887649"
     },
     "user_tz": 300
    },
    "id": "zV1wkkffVjcE",
    "outputId": "21360d31-db0d-46ac-9b50-bb48b947dbb5"
   },
   "outputs": [
    {
     "data": {
      "text/plain": [
       "revenue             0\n",
       "purchases           0\n",
       "total_views         0\n",
       "unique_streams     28\n",
       "unique_invoices    28\n",
       "date1               0\n",
       "dtype: int64"
      ]
     },
     "metadata": {},
     "output_type": "display_data"
    }
   ],
   "source": [
    "display(df.isna().sum())"
   ]
  },
  {
   "cell_type": "code",
   "execution_count": 25,
   "metadata": {
    "colab": {
     "base_uri": "https://localhost:8080/",
     "height": 283
    },
    "colab_type": "code",
    "executionInfo": {
     "elapsed": 520,
     "status": "ok",
     "timestamp": 1584058293503,
     "user": {
      "displayName": "lei liu",
      "photoUrl": "",
      "userId": "14671864135837887649"
     },
     "user_tz": 300
    },
    "id": "B0ahqCeAIWOS",
    "outputId": "59ead57d-853c-4c51-c1e1-df668f6f32a5"
   },
   "outputs": [
    {
     "data": {
      "text/plain": [
       "<matplotlib.axes._subplots.AxesSubplot at 0x11bbf9ad0>"
      ]
     },
     "execution_count": 25,
     "metadata": {},
     "output_type": "execute_result"
    },
    {
     "data": {
      "image/png": "[encoded data removed]",
      "text/plain": [
       "<Figure size 432x288 with 1 Axes>"
      ]
     },
     "metadata": {
      "needs_background": "light"
     },
     "output_type": "display_data"
    }
   ],
   "source": [
    "df.boxplot(column = ['total_views'])"
   ]
  },
  {
   "cell_type": "code",
   "execution_count": 26,
   "metadata": {},
   "outputs": [
    {
     "data": {
      "text/plain": [
       "<matplotlib.axes._subplots.AxesSubplot at 0x11bce14d0>"
      ]
     },
     "execution_count": 26,
     "metadata": {},
     "output_type": "execute_result"
    },
    {
     "data": {
      "image/png": "[encoded data removed]",
      "text/plain": [
       "<Figure size 432x288 with 1 Axes>"
      ]
     },
     "metadata": {
      "needs_background": "light"
     },
     "output_type": "display_data"
    }
   ],
   "source": [
    "df.boxplot(column = ['purchases'])"
   ]
  },
  {
   "cell_type": "code",
   "execution_count": 37,
   "metadata": {
    "colab": {
     "base_uri": "https://localhost:8080/",
     "height": 295
    },
    "colab_type": "code",
    "executionInfo": {
     "elapsed": 565,
     "status": "ok",
     "timestamp": 1584058294515,
     "user": {
      "displayName": "lei liu",
      "photoUrl": "",
      "userId": "14671864135837887649"
     },
     "user_tz": 300
    },
    "id": "xZARaS-d-GBw",
    "outputId": "37f4da2d-201b-4e6c-e728-2a1793aca2e2"
   },
   "outputs": [
    {
     "data": {
      "text/plain": [
       "<matplotlib.axes._subplots.AxesSubplot at 0x11c299f50>"
      ]
     },
     "execution_count": 37,
     "metadata": {},
     "output_type": "execute_result"
    },
    {
     "data": {
      "image/png": "[encoded data removed]",
      "text/plain": [
       "<Figure size 432x288 with 1 Axes>"
      ]
     },
     "metadata": {
      "needs_background": "light"
     },
     "output_type": "display_data"
    }
   ],
   "source": [
    "agg_df = df.groupby('date1',as_index=False)[['revenue','total_views']].agg({'revenue':'mean','total_views':'mean'})\n",
    "agg_df.plot(x=\"date1\", y=['revenue','total_views'])"
   ]
  },
  {
   "cell_type": "code",
   "execution_count": 41,
   "metadata": {},
   "outputs": [
    {
     "data": {
      "text/plain": [
       "<matplotlib.axes._subplots.AxesSubplot at 0x11c3181d0>"
      ]
     },
     "execution_count": 41,
     "metadata": {},
     "output_type": "execute_result"
    },
    {
     "data": {
      "image/png": "[encoded data removed]",
      "text/plain": [
       "<Figure size 432x288 with 1 Axes>"
      ]
     },
     "metadata": {
      "needs_background": "light"
     },
     "output_type": "display_data"
    }
   ],
   "source": [
    "agg_df2 = df\n",
    "agg_df2.plot( x=\"purchases\", y=['revenue','total_views'])"
   ]
  },
  {
   "cell_type": "code",
   "execution_count": null,
   "metadata": {},
   "outputs": [],
   "source": []
  }
 ],
 "metadata": {
  "colab": {
   "collapsed_sections": [],
   "name": "EDA.ipynb",
   "provenance": []
  },
  "kernelspec": {
   "display_name": "Python 3",
   "language": "python",
   "name": "python3"
  },
  "language_info": {
   "codemirror_mode": {
    "name": "ipython",
    "version": 3
   },
   "file_extension": ".py",
   "mimetype": "text/x-python",
   "name": "python",
   "nbconvert_exporter": "python",
   "pygments_lexer": "ipython3",
   "version": "3.7.6"
  }
 },
 "nbformat": 4,
 "nbformat_minor": 1
}
